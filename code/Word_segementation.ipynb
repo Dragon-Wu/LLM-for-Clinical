{
 "cells": [
  {
   "cell_type": "markdown",
   "metadata": {},
   "source": [
    "## Import"
   ]
  },
  {
   "cell_type": "code",
   "execution_count": 2,
   "metadata": {},
   "outputs": [],
   "source": [
    "import re\n",
    "import jieba\n",
    "import string \n",
    "from zhon.hanzi import punctuation as ch_punc\n",
    "from string import punctuation as en_punc"
   ]
  },
  {
   "cell_type": "code",
   "execution_count": 3,
   "metadata": {},
   "outputs": [],
   "source": [
    "def clean_string(str_processing, flag_en=False, flag_en_punc=False, flag_cn_punc=False, flag_num=False):\n",
    "    # remove English character\n",
    "    if flag_en:\n",
    "        str_processing = re.sub('[a-zA-Z]','',str_processing)\n",
    "    # remove English punctuation\n",
    "    if flag_en_punc:\n",
    "        str_processing = re.sub('[{}]'.format(en_punc),\"\",str_processing)\n",
    "    # remove Chinese punctuation\n",
    "    if flag_cn_punc:\n",
    "        str_processing = re.sub('[{}]'.format(ch_punc),\"\",str_processing) \n",
    "    # remove Numeric char\n",
    "    if flag_num:\n",
    "        str_processing = re.sub('[\\d]','',str_processing) # [0-9]\n",
    "    return str_processing"
   ]
  },
  {
   "cell_type": "markdown",
   "metadata": {},
   "source": [
    "## word segmentation with characters"
   ]
  },
  {
   "cell_type": "code",
   "execution_count": 4,
   "metadata": {},
   "outputs": [
    {
     "name": "stdout",
     "output_type": "stream",
     "text": [
      "男/性/，/3/6/岁/。/咳/痰/1/月/余/,/ /痰/中/有/血/丝/,/偶/尔/咯/血/1/0/0/m/l/,/ /X/射/线/检/查/显/示/无/异/常/,/ /考/虑/诊/断/为/:/(/A/)/支/气/管/扩/张/,/ /(/B/)/肺/癌/,/ /(/C/)/结/核/,/ /(/D/)/支/气/管/肺/炎/,/ /(/E/)/肺/水/肿\n"
     ]
    }
   ],
   "source": [
    "string_one = '男性，36岁。咳痰1月余, 痰中有血丝,偶尔咯血100ml, X射线检查显示无异常, 考虑诊断为:(A)支气管扩张, (B)肺癌, (C)结核, (D)支气管肺炎, (E)肺水肿'\n",
    "print(\"/\".join(list(string_one)))"
   ]
  },
  {
   "cell_type": "markdown",
   "metadata": {},
   "source": [
    "## word segmentation with jieba"
   ]
  },
  {
   "cell_type": "code",
   "execution_count": 5,
   "metadata": {},
   "outputs": [
    {
     "name": "stderr",
     "output_type": "stream",
     "text": [
      "Building prefix dict from the default dictionary ...\n",
      "Dumping model to file cache C:\\Users\\hp\\AppData\\Local\\Temp\\jieba.cache\n",
      "Loading model cost 0.532 seconds.\n",
      "Prefix dict has been built successfully.\n"
     ]
    },
    {
     "name": "stdout",
     "output_type": "stream",
     "text": [
      "男性/，/36/岁/。/咳痰/1/月余/,/ /痰/中/有/血丝/,/偶尔/咯血/100ml/,/ /X射线/检查/显示/无/异常/,/ /考虑/诊断/为/:/(/A/)/支气管/扩张/,/ /(/B/)/肺癌/,/ /(/C/)/结核/,/ /(/D/)/支气管/肺炎/,/ /(/E/)/肺水肿\n"
     ]
    }
   ],
   "source": [
    "string_one = '男性，36岁。咳痰1月余, 痰中有血丝,偶尔咯血100ml, X射线检查显示无异常, 考虑诊断为:(A)支气管扩张, (B)肺癌, (C)结核, (D)支气管肺炎, (E)肺水肿'\n",
    "print(\"/\".join(list(jieba.cut(string_one))))"
   ]
  },
  {
   "cell_type": "markdown",
   "metadata": {},
   "source": [
    "## word segmentation with jieba and medical dictionary"
   ]
  },
  {
   "cell_type": "markdown",
   "metadata": {},
   "source": [
    "### Add medical dictionary"
   ]
  },
  {
   "cell_type": "code",
   "execution_count": 6,
   "metadata": {},
   "outputs": [],
   "source": [
    "with open('../data/THUOCL_medical.txt', 'r', encoding='utf-8') as f:\n",
    "    list_word_freq = f.readlines()\n",
    "list_word_freq = [ i.strip().split() for i in list_word_freq]\n",
    "list_word_freq = [ [word, int(freq)] for word, freq in list_word_freq]\n",
    "for (word, freq) in list_word_freq:\n",
    "    jieba.add_word(word.strip(),tag=freq)\n",
    "    jieba.suggest_freq(word, tune=True)"
   ]
  },
  {
   "cell_type": "markdown",
   "metadata": {},
   "source": [
    "### Test"
   ]
  },
  {
   "cell_type": "code",
   "execution_count": 7,
   "metadata": {},
   "outputs": [
    {
     "name": "stdout",
     "output_type": "stream",
     "text": [
      "男性/，/36/岁/。/咳痰/1/月余/,/ /痰/中/有/血丝/,/偶尔/咯血/100ml/,/ /X射线/检查/显示/无/异常/,/ /考虑/诊断/为/:/(/A/)/支气管扩张/,/ /(/B/)/肺癌/,/ /(/C/)/结核/,/ /(/D/)/支气管肺炎/,/ /(/E/)/肺水肿\n"
     ]
    }
   ],
   "source": [
    "string_one = '男性，36岁。咳痰1月余, 痰中有血丝,偶尔咯血100ml, X射线检查显示无异常, 考虑诊断为:(A)支气管扩张, (B)肺癌, (C)结核, (D)支气管肺炎, (E)肺水肿'\n",
    "print(\"/\".join(list(jieba.cut(string_one))))"
   ]
  },
  {
   "cell_type": "code",
   "execution_count": 8,
   "metadata": {},
   "outputs": [
    {
     "name": "stdout",
     "output_type": "stream",
     "text": [
      "男性/，/36/岁/。/咳痰/1/月余/，/痰/中/有/血丝/，/偶尔/咯血/100ml/，/X射线/检查/无/异常/，/考虑/诊断/为/：\n"
     ]
    }
   ],
   "source": [
    "string_one = '男性，36岁。咳痰1月余，痰中有血丝，偶尔咯血100ml，X射线检查无异常，考虑诊断为：'\n",
    "print(\"/\".join(list(jieba.cut(string_one))))"
   ]
  },
  {
   "cell_type": "code",
   "execution_count": 9,
   "metadata": {},
   "outputs": [
    {
     "name": "stdout",
     "output_type": "stream",
     "text": [
      "(/A/)/支气管扩张/,/ /(/B/)/肺癌/,/ /(/C/)/结核/,/ /(/D/)/支气管肺炎/,/ /(/E/)/肺水肿\n"
     ]
    }
   ],
   "source": [
    "string_one = '(A)支气管扩张, (B)肺癌, (C)结核, (D)支气管肺炎, (E)肺水肿'\n",
    "print(\"/\".join(list(jieba.cut(string_one))))"
   ]
  },
  {
   "cell_type": "code",
   "execution_count": 10,
   "metadata": {},
   "outputs": [
    {
     "name": "stdout",
     "output_type": "stream",
     "text": [
      "['男性', '岁', '咳痰', '月余', '痰', '中', '有', '血丝', '偶尔', '咯血', '线', '检查', '无', '异常', '考虑', '诊断', '为', '支气管扩张', '肺癌', '结核', '支气管肺炎', '肺水肿']\n"
     ]
    }
   ],
   "source": [
    "string_one = '男性，36岁。咳痰1月余, 痰中有血丝,偶尔咯血100ml, X线检查无异常, 考虑诊断为:(A)支气管扩张, (B)肺癌, (C)结核, (D)支气管肺炎, (E)肺水肿'\n",
    "string_one = clean_string(string_one, flag_en=True, flag_en_punc=True, flag_cn_punc=True, flag_num=True)\n",
    "print([ word for word in list(jieba.cut(string_one)) if len(word.strip())>0 ])"
   ]
  },
  {
   "cell_type": "code",
   "execution_count": null,
   "metadata": {},
   "outputs": [],
   "source": []
  },
  {
   "cell_type": "markdown",
   "metadata": {},
   "source": [
    "## End"
   ]
  },
  {
   "cell_type": "code",
   "execution_count": 11,
   "metadata": {},
   "outputs": [
    {
     "name": "stdout",
     "output_type": "stream",
     "text": [
      "Done.\n"
     ]
    }
   ],
   "source": [
    "print('Done.')"
   ]
  },
  {
   "cell_type": "code",
   "execution_count": null,
   "metadata": {},
   "outputs": [],
   "source": []
  }
 ],
 "metadata": {
  "kernelspec": {
   "display_name": "base",
   "language": "python",
   "name": "python3"
  },
  "language_info": {
   "codemirror_mode": {
    "name": "ipython",
    "version": 3
   },
   "file_extension": ".py",
   "mimetype": "text/x-python",
   "name": "python",
   "nbconvert_exporter": "python",
   "pygments_lexer": "ipython3",
   "version": "3.10.10"
  }
 },
 "nbformat": 4,
 "nbformat_minor": 2
}
